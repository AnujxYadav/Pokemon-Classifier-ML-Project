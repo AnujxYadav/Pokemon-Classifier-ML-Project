{
 "cells": [
  {
   "cell_type": "code",
   "execution_count": 10,
   "metadata": {
    "ExecuteTime": {
     "end_time": "2023-04-28T21:52:46.096853Z",
     "start_time": "2023-04-28T21:52:46.093172Z"
    },
    "collapsed": true
   },
   "outputs": [],
   "source": [
    "import json\n",
    "import numpy as np\n",
    "from matplotlib import pyplot as plt\n",
    "import pandas as pd\n",
    "from sklearn.model_selection import train_test_split\n",
    "# from torch.utils.data import DataLoader\n",
    "# from torchvision.models import vgg19\n",
    "# import torch\n",
    "# from torch.utils import data as data_utils\n",
    "\n",
    "import tensorflow as tf\n",
    "\n",
    "\n",
    "columns = ['opp_switch', 'opp_damage_dealt', 'opp_effectiveness', 'opp_damage_taken', 'opp_heal', 'opp_faint', 'opp_boost_off', 'opp_boost_def', 'opp_boost_spe', 'opp_unboost_off', 'opp_unboost_def', 'opp_unboost_spe', 'opp_basepower', 'opp_accuracy', 'opp_stab', 'opp_priority', 'opp_first', 'switch', 'damage_dealt', 'effectiveness', 'damage_taken', 'heal', 'faint', 'boost_off', 'boost_def', 'boost_spe', 'unboost_off', 'unboost_def', 'unboost_spe', 'basepower', 'accuracy', 'stab', 'priority', 'first', 'turn', 'turn_norm', 'opp_alive', 'alive', 'weight', 'winner', 'opp_winner', 'opp_usage']\n"
   ]
  },
  {
   "cell_type": "code",
   "execution_count": 11,
   "metadata": {
    "ExecuteTime": {
     "end_time": "2023-04-28T23:33:08.201416Z",
     "start_time": "2023-04-28T23:33:07.811702Z"
    },
    "collapsed": false
   },
   "outputs": [],
   "source": [
    "with open('datasets/images.json') as fl:\n",
    "  _data = json.load(fl)\n",
    "\n",
    "train_images, train_labels, train_poke = list(zip(\n",
    "  *[(np.array(img), label, poke) for img, label, poke in\n",
    "    zip(_data['train_images'], _data['train_labels'], _data['train_poke'])\n",
    "    if np.array(img).shape == np.array(_data['train_images'][0]).shape]\n",
    "))\n",
    "\n",
    "test_images, test_labels, test_poke = zip(\n",
    "\t*[(np.array(img), label, poke) for img, label, poke in\n",
    "\t  zip(_data['test_images'], _data['test_labels'], _data['test_poke'])\n",
    "    if np.array(img).shape == np.array(_data['test_images'][0]).shape]\n",
    ")\n",
    "\n",
    "train_labels, test_labels = np.array(train_labels), np.array(test_labels)"
   ]
  },
  {
   "cell_type": "code",
   "execution_count": 12,
   "metadata": {
    "ExecuteTime": {
     "end_time": "2023-04-28T23:33:09.137680Z",
     "start_time": "2023-04-28T23:33:09.123206Z"
    },
    "collapsed": false
   },
   "outputs": [
    {
     "name": "stdout",
     "output_type": "stream",
     "text": [
      "1295\n",
      "1295\n",
      "212\n",
      "212\n"
     ]
    }
   ],
   "source": [
    "print(len(train_images))\n",
    "print(len(_data['train_images']))\n",
    "print(len(test_images))\n",
    "print(len(_data['test_images']))\n"
   ]
  },
  {
   "cell_type": "code",
   "execution_count": 13,
   "metadata": {
    "ExecuteTime": {
     "end_time": "2023-04-28T23:33:09.541514Z",
     "start_time": "2023-04-28T23:33:09.511569Z"
    },
    "collapsed": false
   },
   "outputs": [
    {
     "data": {
      "text/plain": [
       "(8, 42)"
      ]
     },
     "execution_count": 13,
     "metadata": {},
     "output_type": "execute_result"
    }
   ],
   "source": [
    "train_images[0].shape"
   ]
  },
  {
   "cell_type": "code",
   "execution_count": null,
   "metadata": {
    "ExecuteTime": {
     "end_time": "2023-04-28T23:33:10.202009Z",
     "start_time": "2023-04-28T23:33:10.198811Z"
    },
    "collapsed": false
   },
   "outputs": [],
   "source": []
  },
  {
   "cell_type": "code",
   "execution_count": 14,
   "metadata": {
    "ExecuteTime": {
     "end_time": "2023-04-28T23:33:10.776348Z",
     "start_time": "2023-04-28T23:33:10.411680Z"
    },
    "collapsed": false
   },
   "outputs": [
    {
     "data": {
      "text/html": [
       "<div>\n",
       "<style scoped>\n",
       "    .dataframe tbody tr th:only-of-type {\n",
       "        vertical-align: middle;\n",
       "    }\n",
       "\n",
       "    .dataframe tbody tr th {\n",
       "        vertical-align: top;\n",
       "    }\n",
       "\n",
       "    .dataframe thead th {\n",
       "        text-align: right;\n",
       "    }\n",
       "</style>\n",
       "<table border=\"1\" class=\"dataframe\">\n",
       "  <thead>\n",
       "    <tr style=\"text-align: right;\">\n",
       "      <th></th>\n",
       "      <th>opp_switch</th>\n",
       "      <th>opp_damage_dealt</th>\n",
       "      <th>opp_effectiveness</th>\n",
       "      <th>opp_damage_taken</th>\n",
       "      <th>opp_heal</th>\n",
       "      <th>opp_faint</th>\n",
       "      <th>opp_boost_off</th>\n",
       "      <th>opp_boost_def</th>\n",
       "      <th>opp_boost_spe</th>\n",
       "      <th>opp_unboost_off</th>\n",
       "      <th>...</th>\n",
       "      <th>priority</th>\n",
       "      <th>first</th>\n",
       "      <th>turn</th>\n",
       "      <th>turn_norm</th>\n",
       "      <th>opp_alive</th>\n",
       "      <th>alive</th>\n",
       "      <th>weight</th>\n",
       "      <th>winner</th>\n",
       "      <th>opp_winner</th>\n",
       "      <th>opp_usage</th>\n",
       "    </tr>\n",
       "  </thead>\n",
       "  <tbody>\n",
       "    <tr>\n",
       "      <th>0</th>\n",
       "      <td>1.000000</td>\n",
       "      <td>0.685180</td>\n",
       "      <td>0.893561</td>\n",
       "      <td>0.655771</td>\n",
       "      <td>0.632909</td>\n",
       "      <td>0.119332</td>\n",
       "      <td>0.836070</td>\n",
       "      <td>0.897137</td>\n",
       "      <td>0.856419</td>\n",
       "      <td>0.927803</td>\n",
       "      <td>...</td>\n",
       "      <td>0.307882</td>\n",
       "      <td>0.904827</td>\n",
       "      <td>0.344687</td>\n",
       "      <td>0.281275</td>\n",
       "      <td>1.000000</td>\n",
       "      <td>1.000000</td>\n",
       "      <td>1.000000</td>\n",
       "      <td>0.998937</td>\n",
       "      <td>0.988785</td>\n",
       "      <td>0.978328</td>\n",
       "    </tr>\n",
       "    <tr>\n",
       "      <th>1</th>\n",
       "      <td>0.556622</td>\n",
       "      <td>0.795640</td>\n",
       "      <td>0.919894</td>\n",
       "      <td>0.696509</td>\n",
       "      <td>0.722698</td>\n",
       "      <td>0.190698</td>\n",
       "      <td>1.000000</td>\n",
       "      <td>1.000000</td>\n",
       "      <td>1.000000</td>\n",
       "      <td>0.996160</td>\n",
       "      <td>...</td>\n",
       "      <td>0.331105</td>\n",
       "      <td>0.969185</td>\n",
       "      <td>0.448413</td>\n",
       "      <td>0.385131</td>\n",
       "      <td>0.960633</td>\n",
       "      <td>0.958816</td>\n",
       "      <td>0.997260</td>\n",
       "      <td>1.000000</td>\n",
       "      <td>0.987671</td>\n",
       "      <td>0.978516</td>\n",
       "    </tr>\n",
       "    <tr>\n",
       "      <th>2</th>\n",
       "      <td>0.521332</td>\n",
       "      <td>0.810252</td>\n",
       "      <td>0.922390</td>\n",
       "      <td>0.724926</td>\n",
       "      <td>0.865996</td>\n",
       "      <td>0.247014</td>\n",
       "      <td>0.938191</td>\n",
       "      <td>0.986214</td>\n",
       "      <td>0.932995</td>\n",
       "      <td>0.977727</td>\n",
       "      <td>...</td>\n",
       "      <td>0.561576</td>\n",
       "      <td>0.981464</td>\n",
       "      <td>0.554952</td>\n",
       "      <td>0.491236</td>\n",
       "      <td>0.913111</td>\n",
       "      <td>0.912366</td>\n",
       "      <td>0.994574</td>\n",
       "      <td>0.998454</td>\n",
       "      <td>0.989292</td>\n",
       "      <td>0.985441</td>\n",
       "    </tr>\n",
       "    <tr>\n",
       "      <th>3</th>\n",
       "      <td>0.500445</td>\n",
       "      <td>0.837873</td>\n",
       "      <td>0.929375</td>\n",
       "      <td>0.757121</td>\n",
       "      <td>0.971586</td>\n",
       "      <td>0.289931</td>\n",
       "      <td>0.901165</td>\n",
       "      <td>0.938494</td>\n",
       "      <td>0.929054</td>\n",
       "      <td>0.957757</td>\n",
       "      <td>...</td>\n",
       "      <td>0.577058</td>\n",
       "      <td>0.994919</td>\n",
       "      <td>0.652861</td>\n",
       "      <td>0.590456</td>\n",
       "      <td>0.867941</td>\n",
       "      <td>0.865903</td>\n",
       "      <td>0.994162</td>\n",
       "      <td>0.998711</td>\n",
       "      <td>0.989022</td>\n",
       "      <td>0.988512</td>\n",
       "    </tr>\n",
       "    <tr>\n",
       "      <th>4</th>\n",
       "      <td>0.488072</td>\n",
       "      <td>0.871691</td>\n",
       "      <td>0.930734</td>\n",
       "      <td>0.781556</td>\n",
       "      <td>0.954266</td>\n",
       "      <td>0.342363</td>\n",
       "      <td>0.875784</td>\n",
       "      <td>0.893955</td>\n",
       "      <td>0.859234</td>\n",
       "      <td>1.000000</td>\n",
       "      <td>...</td>\n",
       "      <td>0.657284</td>\n",
       "      <td>0.995390</td>\n",
       "      <td>0.750179</td>\n",
       "      <td>0.691898</td>\n",
       "      <td>0.816287</td>\n",
       "      <td>0.814240</td>\n",
       "      <td>0.990598</td>\n",
       "      <td>0.999227</td>\n",
       "      <td>0.988481</td>\n",
       "      <td>0.990412</td>\n",
       "    </tr>\n",
       "    <tr>\n",
       "      <th>5</th>\n",
       "      <td>0.476539</td>\n",
       "      <td>0.909887</td>\n",
       "      <td>0.935032</td>\n",
       "      <td>0.807795</td>\n",
       "      <td>1.000000</td>\n",
       "      <td>0.392368</td>\n",
       "      <td>0.845626</td>\n",
       "      <td>0.876988</td>\n",
       "      <td>0.849662</td>\n",
       "      <td>0.980799</td>\n",
       "      <td>...</td>\n",
       "      <td>0.899719</td>\n",
       "      <td>1.000000</td>\n",
       "      <td>0.847572</td>\n",
       "      <td>0.791817</td>\n",
       "      <td>0.762349</td>\n",
       "      <td>0.759539</td>\n",
       "      <td>0.995580</td>\n",
       "      <td>0.996778</td>\n",
       "      <td>0.991049</td>\n",
       "      <td>0.993726</td>\n",
       "    </tr>\n",
       "    <tr>\n",
       "      <th>6</th>\n",
       "      <td>0.455256</td>\n",
       "      <td>0.983253</td>\n",
       "      <td>0.949830</td>\n",
       "      <td>0.882208</td>\n",
       "      <td>0.925073</td>\n",
       "      <td>0.493155</td>\n",
       "      <td>0.773365</td>\n",
       "      <td>0.772004</td>\n",
       "      <td>0.737050</td>\n",
       "      <td>0.964670</td>\n",
       "      <td>...</td>\n",
       "      <td>1.000000</td>\n",
       "      <td>0.999859</td>\n",
       "      <td>0.936031</td>\n",
       "      <td>0.895218</td>\n",
       "      <td>0.701588</td>\n",
       "      <td>0.696607</td>\n",
       "      <td>0.994120</td>\n",
       "      <td>0.995780</td>\n",
       "      <td>0.992096</td>\n",
       "      <td>0.998269</td>\n",
       "    </tr>\n",
       "    <tr>\n",
       "      <th>7</th>\n",
       "      <td>0.413087</td>\n",
       "      <td>1.000000</td>\n",
       "      <td>1.000000</td>\n",
       "      <td>1.000000</td>\n",
       "      <td>0.645052</td>\n",
       "      <td>1.000000</td>\n",
       "      <td>0.448791</td>\n",
       "      <td>0.379639</td>\n",
       "      <td>0.422860</td>\n",
       "      <td>0.867127</td>\n",
       "      <td>...</td>\n",
       "      <td>0.931034</td>\n",
       "      <td>0.899134</td>\n",
       "      <td>1.000000</td>\n",
       "      <td>1.000000</td>\n",
       "      <td>0.613299</td>\n",
       "      <td>0.615432</td>\n",
       "      <td>0.989694</td>\n",
       "      <td>0.988241</td>\n",
       "      <td>1.000000</td>\n",
       "      <td>1.000000</td>\n",
       "    </tr>\n",
       "  </tbody>\n",
       "</table>\n",
       "<p>8 rows × 42 columns</p>\n",
       "</div>"
      ],
      "text/plain": [
       "   opp_switch  opp_damage_dealt  opp_effectiveness  opp_damage_taken  \\\n",
       "0    1.000000          0.685180           0.893561          0.655771   \n",
       "1    0.556622          0.795640           0.919894          0.696509   \n",
       "2    0.521332          0.810252           0.922390          0.724926   \n",
       "3    0.500445          0.837873           0.929375          0.757121   \n",
       "4    0.488072          0.871691           0.930734          0.781556   \n",
       "5    0.476539          0.909887           0.935032          0.807795   \n",
       "6    0.455256          0.983253           0.949830          0.882208   \n",
       "7    0.413087          1.000000           1.000000          1.000000   \n",
       "\n",
       "   opp_heal  opp_faint  opp_boost_off  opp_boost_def  opp_boost_spe  \\\n",
       "0  0.632909   0.119332       0.836070       0.897137       0.856419   \n",
       "1  0.722698   0.190698       1.000000       1.000000       1.000000   \n",
       "2  0.865996   0.247014       0.938191       0.986214       0.932995   \n",
       "3  0.971586   0.289931       0.901165       0.938494       0.929054   \n",
       "4  0.954266   0.342363       0.875784       0.893955       0.859234   \n",
       "5  1.000000   0.392368       0.845626       0.876988       0.849662   \n",
       "6  0.925073   0.493155       0.773365       0.772004       0.737050   \n",
       "7  0.645052   1.000000       0.448791       0.379639       0.422860   \n",
       "\n",
       "   opp_unboost_off  ...  priority     first      turn  turn_norm  opp_alive  \\\n",
       "0         0.927803  ...  0.307882  0.904827  0.344687   0.281275   1.000000   \n",
       "1         0.996160  ...  0.331105  0.969185  0.448413   0.385131   0.960633   \n",
       "2         0.977727  ...  0.561576  0.981464  0.554952   0.491236   0.913111   \n",
       "3         0.957757  ...  0.577058  0.994919  0.652861   0.590456   0.867941   \n",
       "4         1.000000  ...  0.657284  0.995390  0.750179   0.691898   0.816287   \n",
       "5         0.980799  ...  0.899719  1.000000  0.847572   0.791817   0.762349   \n",
       "6         0.964670  ...  1.000000  0.999859  0.936031   0.895218   0.701588   \n",
       "7         0.867127  ...  0.931034  0.899134  1.000000   1.000000   0.613299   \n",
       "\n",
       "      alive    weight    winner  opp_winner  opp_usage  \n",
       "0  1.000000  1.000000  0.998937    0.988785   0.978328  \n",
       "1  0.958816  0.997260  1.000000    0.987671   0.978516  \n",
       "2  0.912366  0.994574  0.998454    0.989292   0.985441  \n",
       "3  0.865903  0.994162  0.998711    0.989022   0.988512  \n",
       "4  0.814240  0.990598  0.999227    0.988481   0.990412  \n",
       "5  0.759539  0.995580  0.996778    0.991049   0.993726  \n",
       "6  0.696607  0.994120  0.995780    0.992096   0.998269  \n",
       "7  0.615432  0.989694  0.988241    1.000000   1.000000  \n",
       "\n",
       "[8 rows x 42 columns]"
      ]
     },
     "metadata": {},
     "output_type": "display_data"
    },
    {
     "data": {
      "image/png": "[encoded data removed]",
      "text/plain": [
       "<Figure size 640x480 with 1 Axes>"
      ]
     },
     "metadata": {},
     "output_type": "display_data"
    }
   ],
   "source": [
    "all_images = np.concatenate((train_images, test_images), axis=0)\n",
    "img = np.mean(all_images, axis=0)\n",
    "display(pd.DataFrame(img / img.max(axis=0) , columns=columns))\n",
    "plt.imshow(img / img.max(axis=0), cmap='gray')\n",
    "\n",
    "train_images = [x / img.max(axis=0) - 0.5 for x in train_images]\n",
    "test_images = [x / img.max(axis=0) - 0.5 for x in test_images]\n",
    "train_images, test_images = np.array(train_images), np.array(test_images)\n"
   ]
  },
  {
   "cell_type": "code",
   "execution_count": 15,
   "metadata": {
    "ExecuteTime": {
     "end_time": "2023-04-28T23:33:11.806297Z",
     "start_time": "2023-04-28T23:33:11.790394Z"
    },
    "collapsed": false
   },
   "outputs": [
    {
     "name": "stdout",
     "output_type": "stream",
     "text": [
      "<class 'numpy.ndarray'>\n"
     ]
    }
   ],
   "source": [
    "print(type(train_images))\n",
    "train_images = train_images.reshape(len(train_labels), 8, 42, 1)\n",
    "test_images = test_images.reshape(len(test_labels), 8, 42, 1)"
   ]
  },
  {
   "cell_type": "code",
   "execution_count": 16,
   "metadata": {},
   "outputs": [],
   "source": [
    "rating_map = {'S': 1, 'S-': 0.95, 'A+': 0.85, 'A': 0.75, 'A-': 0.65, 'B+': 0.55, 'B': 0.45, 'B-': 0.35, 'C+': 0.2, 'C': 0.1, 'C-': 0}\n",
    "# rating_map_reverse = {1: 'S', 0.95: 'S-', 0.85: 'A+', 0.75: 'A', 0.65: 'A-', 0.55: 'B+', 0.45: 'B', 0.35: 'B-', 0.2: 'C+', 0.1: 'C', 0: 'C-'}\n",
    "rating_map_reverse = {1: 0, 0.95: 1, 0.85: 2, 0.75: 3, 0.65: 4, 0.55: 5, 0.45: 6, 0.35: 7, 0.2: 8, 0.1: 9, 0: 10}\n",
    "\n",
    "save_train_labels = train_labels\n",
    "save_test_labels = test_labels\n",
    "\n",
    "# change the number to label\n",
    "train_labels = np.array([rating_map_reverse[i] for i in train_labels])\n",
    "test_labels = np.array([rating_map_reverse[i] for i in test_labels])"
   ]
  },
  {
   "cell_type": "code",
   "execution_count": 17,
   "metadata": {},
   "outputs": [
    {
     "name": "stdout",
     "output_type": "stream",
     "text": [
      "[ 3  4 10  4  6  3  5  3  6  4  3  3  4 10  3  7  3  7  6  3  3  4  3  3\n",
      " 10  3  4  4  4  3  6  9  6  5  4  5  4  9  6  4  5  4  6  4  4  6  5  4\n",
      "  4  4  4  4  4  9  4  7  4  4  4  3  4 10  5  5  3  9  6  5  3  4  4 10\n",
      "  6  3  3  5  3  4  4  3 10  4  3  4  3  4  4  5  3  6  6  4  5  6  6  5\n",
      "  4  3  6  4  3  4  3  4  4  7 10  9  4  3  4  5  6  3  4 10  4  4  3  3\n",
      "  4  4  6  3  4  4  6  3  4 10  3  3  4  4  4  7  4  6 10  6  4  4  3  4\n",
      "  4  6  3  5  3  9  3  6  6  4  4  4  3  6  3  3  4 10  3  3  3  4  3  3\n",
      "  3  6  3 10  3  3 10  4  4  4  5  5  4  3  7  3  5  4  4  4  3  3 10  4\n",
      "  7  3  4  3  5  4  7  4  4  4  4  4  6  3  7  3  4  7  4  4]\n"
     ]
    }
   ],
   "source": [
    "print(test_labels)"
   ]
  },
  {
   "cell_type": "code",
   "execution_count": 28,
   "metadata": {
    "ExecuteTime": {
     "end_time": "2023-04-28T23:35:48.568586Z",
     "start_time": "2023-04-28T23:33:12.285232Z"
    },
    "collapsed": false
   },
   "outputs": [
    {
     "name": "stdout",
     "output_type": "stream",
     "text": [
      "Epoch 1/50\n",
      "9/9 [==============================] - 3s 81ms/step - loss: 2.2797 - accuracy: 0.2325 - val_loss: 2.1049 - val_accuracy: 0.3370\n",
      "Epoch 2/50\n",
      "9/9 [==============================] - 0s 19ms/step - loss: 2.1181 - accuracy: 0.2966 - val_loss: 1.9861 - val_accuracy: 0.3950\n",
      "Epoch 3/50\n",
      "9/9 [==============================] - 0s 17ms/step - loss: 1.9981 - accuracy: 0.3369 - val_loss: 1.8339 - val_accuracy: 0.4171\n",
      "Epoch 4/50\n",
      "9/9 [==============================] - 0s 16ms/step - loss: 1.8840 - accuracy: 0.3428 - val_loss: 1.7486 - val_accuracy: 0.4558\n",
      "Epoch 5/50\n",
      "9/9 [==============================] - 0s 16ms/step - loss: 1.7809 - accuracy: 0.4318 - val_loss: 1.6744 - val_accuracy: 0.4890\n",
      "Epoch 6/50\n",
      "9/9 [==============================] - 0s 17ms/step - loss: 1.7276 - accuracy: 0.4294 - val_loss: 1.6142 - val_accuracy: 0.5249\n",
      "Epoch 7/50\n",
      "9/9 [==============================] - 0s 27ms/step - loss: 1.6593 - accuracy: 0.4804 - val_loss: 1.5475 - val_accuracy: 0.5442\n",
      "Epoch 8/50\n",
      "9/9 [==============================] - 0s 17ms/step - loss: 1.5809 - accuracy: 0.4970 - val_loss: 1.4874 - val_accuracy: 0.5442\n",
      "Epoch 9/50\n",
      "9/9 [==============================] - 0s 16ms/step - loss: 1.4860 - accuracy: 0.5196 - val_loss: 1.4291 - val_accuracy: 0.5691\n",
      "Epoch 10/50\n",
      "9/9 [==============================] - 0s 29ms/step - loss: 1.3938 - accuracy: 0.5528 - val_loss: 1.3849 - val_accuracy: 0.5773\n",
      "Epoch 11/50\n",
      "9/9 [==============================] - 0s 21ms/step - loss: 1.3482 - accuracy: 0.5706 - val_loss: 1.3431 - val_accuracy: 0.5939\n",
      "Epoch 12/50\n",
      "9/9 [==============================] - 0s 21ms/step - loss: 1.2600 - accuracy: 0.6014 - val_loss: 1.2958 - val_accuracy: 0.6022\n",
      "Epoch 13/50\n",
      "9/9 [==============================] - 0s 18ms/step - loss: 1.2170 - accuracy: 0.6180 - val_loss: 1.2614 - val_accuracy: 0.6160\n",
      "Epoch 14/50\n",
      "9/9 [==============================] - 0s 16ms/step - loss: 1.1774 - accuracy: 0.6287 - val_loss: 1.2125 - val_accuracy: 0.6160\n",
      "Epoch 15/50\n",
      "9/9 [==============================] - 0s 16ms/step - loss: 1.1164 - accuracy: 0.6489 - val_loss: 1.2027 - val_accuracy: 0.6271\n",
      "Epoch 16/50\n",
      "9/9 [==============================] - 0s 14ms/step - loss: 1.0395 - accuracy: 0.6584 - val_loss: 1.1663 - val_accuracy: 0.6354\n",
      "Epoch 17/50\n",
      "9/9 [==============================] - 0s 18ms/step - loss: 1.0337 - accuracy: 0.6584 - val_loss: 1.1748 - val_accuracy: 0.6492\n",
      "Epoch 18/50\n",
      "9/9 [==============================] - 0s 19ms/step - loss: 0.9586 - accuracy: 0.6987 - val_loss: 1.1191 - val_accuracy: 0.6575\n",
      "Epoch 19/50\n",
      "9/9 [==============================] - 0s 16ms/step - loss: 0.9631 - accuracy: 0.7023 - val_loss: 1.1120 - val_accuracy: 0.6630\n",
      "Epoch 20/50\n",
      "9/9 [==============================] - 0s 16ms/step - loss: 0.9122 - accuracy: 0.7082 - val_loss: 1.1452 - val_accuracy: 0.6630\n",
      "Epoch 21/50\n",
      "9/9 [==============================] - 0s 17ms/step - loss: 0.8794 - accuracy: 0.7189 - val_loss: 1.0821 - val_accuracy: 0.6713\n",
      "Epoch 22/50\n",
      "9/9 [==============================] - 0s 15ms/step - loss: 0.8224 - accuracy: 0.7319 - val_loss: 1.0839 - val_accuracy: 0.6657\n",
      "Epoch 23/50\n",
      "9/9 [==============================] - 0s 16ms/step - loss: 0.8035 - accuracy: 0.7414 - val_loss: 1.0573 - val_accuracy: 0.6768\n",
      "Epoch 24/50\n",
      "9/9 [==============================] - 0s 17ms/step - loss: 0.7630 - accuracy: 0.7438 - val_loss: 1.0337 - val_accuracy: 0.6823\n",
      "Epoch 25/50\n",
      "9/9 [==============================] - 0s 18ms/step - loss: 0.7335 - accuracy: 0.7521 - val_loss: 1.0255 - val_accuracy: 0.6713\n",
      "Epoch 26/50\n",
      "9/9 [==============================] - 0s 18ms/step - loss: 0.7072 - accuracy: 0.7675 - val_loss: 1.0291 - val_accuracy: 0.6906\n",
      "Epoch 27/50\n",
      "9/9 [==============================] - 0s 17ms/step - loss: 0.6600 - accuracy: 0.7841 - val_loss: 1.0588 - val_accuracy: 0.6768\n",
      "Epoch 28/50\n",
      "9/9 [==============================] - 0s 18ms/step - loss: 0.6311 - accuracy: 0.8055 - val_loss: 0.9895 - val_accuracy: 0.6906\n",
      "Epoch 29/50\n",
      "9/9 [==============================] - 0s 18ms/step - loss: 0.6146 - accuracy: 0.7983 - val_loss: 1.0273 - val_accuracy: 0.6906\n",
      "Epoch 30/50\n",
      "9/9 [==============================] - 0s 17ms/step - loss: 0.5578 - accuracy: 0.8043 - val_loss: 1.0144 - val_accuracy: 0.6961\n",
      "Epoch 31/50\n",
      "9/9 [==============================] - 0s 18ms/step - loss: 0.5570 - accuracy: 0.8244 - val_loss: 1.0277 - val_accuracy: 0.7017\n",
      "10/10 [==============================] - 0s 6ms/step - loss: 0.9582 - accuracy: 0.7053\n",
      "0.7052980065345764\n",
      "10/10 [==============================] - 0s 3ms/step\n",
      "0.7052980132450332\n"
     ]
    }
   ],
   "source": [
    "import keras\n",
    "from sklearn.metrics import r2_score\n",
    "from keras.callbacks import EarlyStopping\n",
    "from keras import Sequential\n",
    "\n",
    "from keras.layers import Conv2D, MaxPooling2D, Flatten, Dense, Dropout\n",
    "\n",
    "from sklearn.metrics import accuracy_score\n",
    "\n",
    "\n",
    "# cnn regression model\n",
    "model = Sequential()\n",
    "model.add(Conv2D(32, (3, 3), activation='relu', input_shape=(8, 42, 1)))\n",
    "model.add(MaxPooling2D((2, 2)))\n",
    "model.add(Conv2D(64, (3, 3), activation='relu'))\n",
    "# model.add(MaxPooling2D((2, 2)))\n",
    "# model.add(Conv2D(64, (3, 3), activation='relu'))\n",
    "\n",
    "model.add(Flatten())\n",
    "model.add(Dense(128, activation='relu'))\n",
    "model.add(Dropout(0.5))\n",
    "model.add(Dense(64, activation='relu'))\n",
    "model.add(Dropout(0.5))\n",
    "model.add(Dense(11, activation='softmax'))\n",
    "\n",
    "model.compile(optimizer='adam', loss='sparse_categorical_crossentropy', metrics=['accuracy'])\n",
    "\n",
    "\n",
    "early_stop = EarlyStopping(monitor='val_loss', patience=3)\n",
    "\n",
    "history = model.fit(train_images, train_labels, epochs=50, batch_size=100, validation_split=0.3, callbacks=[early_stop])\n",
    "\n",
    "test_loss, test_acc = model.evaluate(test_images, test_labels)\n",
    "print(test_acc)\n",
    "\n",
    "# r2 score\n",
    "\n",
    "\n",
    "# print(pred.shape)\n",
    "# print(test_labels.shape)\n",
    "\n",
    "# display(pred)\n",
    "# display(test_labels)\n",
    "\n",
    "pred = model.predict(test_images)\n",
    "pred = tf.math.argmax(pred, axis=1)\n",
    "\n",
    "print(np.count_nonzero(np.array(test_labels) == pred) / len(test_labels))"
   ]
  },
  {
   "cell_type": "code",
   "execution_count": 26,
   "metadata": {
    "ExecuteTime": {
     "end_time": "2023-04-28T23:35:54.111358Z",
     "start_time": "2023-04-28T23:35:53.755263Z"
    },
    "collapsed": false
   },
   "outputs": [
    {
     "ename": "KeyError",
     "evalue": "'r2_score'",
     "output_type": "error",
     "traceback": [
      "\u001b[0;31m---------------------------------------------------------------------------\u001b[0m",
      "\u001b[0;31mKeyError\u001b[0m                                  Traceback (most recent call last)",
      "Cell \u001b[0;32mIn[26], line 3\u001b[0m\n\u001b[1;32m      1\u001b[0m train_loss \u001b[39m=\u001b[39m history\u001b[39m.\u001b[39mhistory[\u001b[39m'\u001b[39m\u001b[39mloss\u001b[39m\u001b[39m'\u001b[39m]\n\u001b[1;32m      2\u001b[0m val_loss \u001b[39m=\u001b[39m history\u001b[39m.\u001b[39mhistory[\u001b[39m'\u001b[39m\u001b[39mval_loss\u001b[39m\u001b[39m'\u001b[39m]\n\u001b[0;32m----> 3\u001b[0m train_acc \u001b[39m=\u001b[39m history\u001b[39m.\u001b[39;49mhistory[\u001b[39m'\u001b[39;49m\u001b[39mr2_score\u001b[39;49m\u001b[39m'\u001b[39;49m]\n\u001b[1;32m      4\u001b[0m val_acc \u001b[39m=\u001b[39m history\u001b[39m.\u001b[39mhistory[\u001b[39m'\u001b[39m\u001b[39mval_r2_score\u001b[39m\u001b[39m'\u001b[39m]\n\u001b[1;32m      5\u001b[0m epochs \u001b[39m=\u001b[39m \u001b[39mrange\u001b[39m(\u001b[39m1\u001b[39m, \u001b[39mlen\u001b[39m(train_loss) \u001b[39m+\u001b[39m \u001b[39m1\u001b[39m)\n",
      "\u001b[0;31mKeyError\u001b[0m: 'r2_score'"
     ]
    }
   ],
   "source": [
    "train_loss = history.history['loss']\n",
    "val_loss = history.history['val_loss']\n",
    "train_acc = history.history['r2_score']\n",
    "val_acc = history.history['val_r2_score']\n",
    "epochs = range(1, len(train_loss) + 1)\n",
    "\n",
    "fig, ax = plt.subplots(1, 2, figsize=(15, 8))\n",
    "\n",
    "ax[0].plot(epochs[1:], train_loss[1:], 'bo', label='Training loss')\n",
    "ax[0].plot(epochs[1:], val_loss[1:], 'b', label='Validation loss')\n",
    "ax[0].set_title('Training and validation loss')\n",
    "ax[0].set_xlabel('Epochs')\n",
    "ax[0].set_ylabel('Loss')\n",
    "ax[0].legend()\n",
    "\n",
    "ax[1].plot(epochs[1:], train_acc[1:], 'bo', label='Training R2')\n",
    "ax[1].plot(epochs[1:], val_acc[1:], 'b', label='Validation R2')\n",
    "ax[1].set_title('Training and validation R2')\n",
    "ax[1].set_xlabel('Epochs')\n",
    "ax[1].set_ylabel('R2')\n",
    "ax[1].legend()\n",
    "\n",
    "plt.show()\n"
   ]
  },
  {
   "cell_type": "code",
   "execution_count": null,
   "metadata": {
    "ExecuteTime": {
     "end_time": "2023-04-28T23:36:04.061090Z",
     "start_time": "2023-04-28T23:36:02.665481Z"
    },
    "collapsed": false
   },
   "outputs": [
    {
     "name": "stdout",
     "output_type": "stream",
     "text": [
      "1/1 [==============================] - 0s 40ms/step\n",
      "1/1 [==============================] - 0s 52ms/step\n",
      "1/1 [==============================] - 0s 36ms/step\n",
      "2/2 [==============================] - 0s 12ms/step\n",
      "3/3 [==============================] - 0s 9ms/step\n",
      "3/3 [==============================] - 0s 7ms/step\n",
      "1/1 [==============================] - 0s 29ms/step\n",
      "1/1 [==============================] - 0s 28ms/step\n",
      "1/1 [==============================] - 0s 24ms/step\n",
      "1/1 [==============================] - 0s 24ms/step\n",
      "1/1 [==============================] - 0s 28ms/step\n",
      "1/1 [==============================] - 0s 30ms/step\n",
      "1/1 [==============================] - 0s 29ms/step\n",
      "2/2 [==============================] - 0s 16ms/step\n",
      "1/1 [==============================] - 0s 31ms/step\n",
      "1/1 [==============================] - 0s 36ms/step\n",
      "3/3 [==============================] - 0s 10ms/step\n"
     ]
    }
   ],
   "source": [
    "from itertools import groupby\n",
    "groups = groupby(sorted(zip(test_images, test_labels, test_poke), key=lambda x: x[-1]), key=lambda x: x[-1])\n",
    "\n",
    "pred = []\n",
    "true = []\n",
    "\n",
    "for k, v in groups:\n",
    "\timages = []\n",
    "\tfor data in v:\n",
    "\t\ttrue_ = data[1]\n",
    "\t\timages.append(data[0])\n",
    "\ttrue.append(true_)\n",
    "\tpred.append(np.mean(model.predict(np.array(images))))\n"
   ]
  },
  {
   "cell_type": "code",
   "execution_count": null,
   "metadata": {
    "ExecuteTime": {
     "end_time": "2023-04-28T23:36:07.886674Z",
     "start_time": "2023-04-28T23:36:07.871306Z"
    },
    "collapsed": false
   },
   "outputs": [
    {
     "data": {
      "text/plain": [
       "-0.5120728967317305"
      ]
     },
     "execution_count": 328,
     "metadata": {},
     "output_type": "execute_result"
    }
   ],
   "source": [
    "r2_score(true, pred)"
   ]
  },
  {
   "cell_type": "code",
   "execution_count": 25,
   "metadata": {
    "collapsed": false
   },
   "outputs": [
    {
     "data": {
      "text/plain": [
       "(array([126.,  69., 166., 208., 361.,  65.,  53.,  59.,  21.,  47.,  30.]),\n",
       " array([ 0.        ,  0.90909091,  1.81818182,  2.72727273,  3.63636364,\n",
       "         4.54545455,  5.45454545,  6.36363636,  7.27272727,  8.18181818,\n",
       "         9.09090909, 10.        ]),\n",
       " <BarContainer object of 11 artists>)"
      ]
     },
     "execution_count": 25,
     "metadata": {},
     "output_type": "execute_result"
    },
    {
     "data": {
      "image/png": "[encoded data removed]",
      "text/plain": [
       "<Figure size 640x480 with 1 Axes>"
      ]
     },
     "metadata": {},
     "output_type": "display_data"
    }
   ],
   "source": [
    "plt.hist(train_labels, bins=11)\n"
   ]
  },
  {
   "cell_type": "code",
   "execution_count": 24,
   "metadata": {},
   "outputs": [
    {
     "data": {
      "text/plain": [
       "(array([28., 13., 48., 52., 90., 19., 11., 13.,  7., 16.,  5.]),\n",
       " array([ 0.        ,  0.90909091,  1.81818182,  2.72727273,  3.63636364,\n",
       "         4.54545455,  5.45454545,  6.36363636,  7.27272727,  8.18181818,\n",
       "         9.09090909, 10.        ]),\n",
       " <BarContainer object of 11 artists>)"
      ]
     },
     "execution_count": 24,
     "metadata": {},
     "output_type": "execute_result"
    },
    {
     "data": {
      "image/png": "[encoded data removed]",
      "text/plain": [
       "<Figure size 640x480 with 1 Axes>"
      ]
     },
     "metadata": {},
     "output_type": "display_data"
    }
   ],
   "source": [
    "plt.hist(test_labels, bins=11)"
   ]
  },
  {
   "cell_type": "code",
   "execution_count": 23,
   "metadata": {},
   "outputs": [],
   "source": [
    "all_data = np.concatenate((train_images, test_images), axis=0)\n",
    "all_labels = np.concatenate((train_labels, test_labels), axis=0)\n",
    "\n",
    "# divide the data in train and test\n",
    "from sklearn.model_selection import train_test_split\n",
    "train_images, test_images, train_labels, test_labels = train_test_split(all_data, all_labels, test_size=0.2, random_state=42)"
   ]
  }
 ],
 "metadata": {
  "kernelspec": {
   "display_name": "Python 3",
   "language": "python",
   "name": "python3"
  },
  "language_info": {
   "codemirror_mode": {
    "name": "ipython",
    "version": 3
   },
   "file_extension": ".py",
   "mimetype": "text/x-python",
   "name": "python",
   "nbconvert_exporter": "python",
   "pygments_lexer": "ipython3",
   "version": "3.9.16"
  }
 },
 "nbformat": 4,
 "nbformat_minor": 0
}
