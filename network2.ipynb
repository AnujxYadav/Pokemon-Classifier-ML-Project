{
 "cells": [
  {
   "cell_type": "code",
   "execution_count": 2,
   "metadata": {
    "ExecuteTime": {
     "start_time": "2023-04-29T08:27:44.679197Z",
     "end_time": "2023-04-29T08:27:49.100871Z"
    },
    "collapsed": true
   },
   "outputs": [],
   "source": [
    "import json\n",
    "import numpy as np\n",
    "from matplotlib import pyplot as plt\n",
    "import pandas as pd\n",
    "from sklearn.model_selection import train_test_split\n",
    "# from torch.utils.data import DataLoader\n",
    "# from torchvision.models import vgg19\n",
    "# import torch\n",
    "# from torch.utils import data as data_utils\n",
    "\n",
    "import tensorflow as tf\n",
    "\n",
    "\n",
    "columns = ['opp_switch', 'opp_damage_dealt', 'opp_effectiveness', 'opp_damage_taken', 'opp_heal', 'opp_faint', 'opp_boost_off', 'opp_boost_def', 'opp_boost_spe', 'opp_unboost_off', 'opp_unboost_def', 'opp_unboost_spe', 'opp_basepower', 'opp_accuracy', 'opp_stab', 'opp_priority', 'opp_first', 'switch', 'damage_dealt', 'effectiveness', 'damage_taken', 'heal', 'faint', 'boost_off', 'boost_def', 'boost_spe', 'unboost_off', 'unboost_def', 'unboost_spe', 'basepower', 'accuracy', 'stab', 'priority', 'first', 'turn', 'turn_norm', 'opp_alive', 'alive', 'weight', 'winner', 'opp_winner', 'opp_usage']\n"
   ]
  },
  {
   "cell_type": "code",
   "execution_count": 25,
   "metadata": {
    "ExecuteTime": {
     "start_time": "2023-04-29T08:33:28.947438Z",
     "end_time": "2023-04-29T08:33:30.439465Z"
    },
    "collapsed": false
   },
   "outputs": [],
   "source": [
    "with open('datasets/clean/images.json') as fl:\n",
    "  _data = json.load(fl)\n",
    "\n",
    "train_images, train_labels, train_poke = list(zip(\n",
    "  *[(np.array(img), label, poke) for img, label, poke in\n",
    "    zip(_data['train_images'], _data['train_labels'], _data['train_poke'])\n",
    "    if np.array(img).shape == np.array(_data['train_images'][0]).shape]\n",
    "))\n",
    "\n",
    "test_images, test_labels, test_poke = zip(\n",
    "\t*[(np.array(img), label, poke) for img, label, poke in\n",
    "\t  zip(_data['test_images'], _data['test_labels'], _data['test_poke'])\n",
    "    if np.array(img).shape == np.array(_data['test_images'][0]).shape]\n",
    ")\n",
    "\n",
    "train_labels, test_labels = np.array(train_labels), np.array(test_labels)"
   ]
  },
  {
   "cell_type": "code",
   "execution_count": 26,
   "metadata": {
    "ExecuteTime": {
     "start_time": "2023-04-29T08:33:30.442468Z",
     "end_time": "2023-04-29T08:33:30.454621Z"
    },
    "collapsed": false
   },
   "outputs": [
    {
     "name": "stdout",
     "output_type": "stream",
     "text": [
      "7519\n",
      "7521\n",
      "2336\n",
      "2336\n"
     ]
    }
   ],
   "source": [
    "print(len(train_images))\n",
    "print(len(_data['train_images']))\n",
    "print(len(test_images))\n",
    "print(len(_data['test_images']))\n"
   ]
  },
  {
   "cell_type": "code",
   "execution_count": 27,
   "metadata": {
    "ExecuteTime": {
     "start_time": "2023-04-29T08:33:31.189043Z",
     "end_time": "2023-04-29T08:33:31.381756Z"
    },
    "collapsed": false
   },
   "outputs": [
    {
     "data": {
      "text/plain": "(array([ 66.,  90.,  90., 154.,  88., 179., 209., 353., 301., 806.]),\n array([0. , 0.1, 0.2, 0.3, 0.4, 0.5, 0.6, 0.7, 0.8, 0.9, 1. ]),\n <BarContainer object of 10 artists>)"
     },
     "execution_count": 27,
     "metadata": {},
     "output_type": "execute_result"
    },
    {
     "data": {
      "text/plain": "<Figure size 400x400 with 1 Axes>",
      "image/png": "[encoded data removed]"
     },
     "metadata": {},
     "output_type": "display_data"
    }
   ],
   "source": [
    "plt.figure(figsize=(4, 4))\n",
    "plt.hist(test_labels)"
   ]
  },
  {
   "cell_type": "code",
   "execution_count": 24,
   "metadata": {
    "ExecuteTime": {
     "start_time": "2023-04-29T08:33:20.130299Z",
     "end_time": "2023-04-29T08:33:20.262923Z"
    },
    "collapsed": false
   },
   "outputs": [
    {
     "data": {
      "text/plain": "(array([ 180.,  354.,  104.,  331.,  335.,  376., 2719., 1329., 1076.,\n         715.]),\n array([0. , 0.1, 0.2, 0.3, 0.4, 0.5, 0.6, 0.7, 0.8, 0.9, 1. ]),\n <BarContainer object of 10 artists>)"
     },
     "execution_count": 24,
     "metadata": {},
     "output_type": "execute_result"
    },
    {
     "data": {
      "text/plain": "<Figure size 400x400 with 1 Axes>",
      "image/png": "[encoded data removed]"
     },
     "metadata": {},
     "output_type": "display_data"
    }
   ],
   "source": [
    "plt.figure(figsize=(4, 4))\n",
    "plt.hist(train_labels)"
   ]
  },
  {
   "cell_type": "code",
   "execution_count": 7,
   "metadata": {
    "ExecuteTime": {
     "start_time": "2023-04-29T08:28:01.399128Z",
     "end_time": "2023-04-29T08:28:01.645663Z"
    },
    "collapsed": false
   },
   "outputs": [
    {
     "data": {
      "text/plain": "   opp_switch  opp_damage_dealt  opp_effectiveness  opp_damage_taken  \\\n0    1.000000          0.804689           0.961185          0.800596   \n1    0.803687          0.834896           0.963490          0.826087   \n2    0.760702          0.877175           0.968138          0.857219   \n3    0.733269          0.914094           0.977106          0.904419   \n4    0.689455          1.000000           1.000000          1.000000   \n\n   opp_heal  opp_faint  opp_boost_off  opp_boost_def  opp_boost_spe  \\\n0  0.681973   0.338653       0.924984       0.939655       0.958984   \n1  0.883855   0.466985       0.974578       0.996408       1.000000   \n2  0.955619   0.581844       1.000000       1.000000       0.998828   \n3  1.000000   0.709126       0.951657       0.956897       0.937500   \n4  0.900131   1.000000       0.853720       0.766523       0.760156   \n\n   opp_unboost_off  ...  priority     first      turn  turn_norm  opp_alive  \\\n0         1.000000  ...  0.381885  0.982747  0.238602   0.229463   1.000000   \n1         0.946470  ...  0.556119  0.981840  0.428970   0.423205   0.915960   \n2         0.941394  ...  0.684029  0.984852  0.625560   0.614263   0.819978   \n3         0.930318  ...  0.878774  1.000000  0.826292   0.805933   0.708943   \n4         0.910475  ...  1.000000  0.967628  1.000000   1.000000   0.578260   \n\n      alive    weight    winner  opp_winner  opp_usage  \n0  1.000000  1.000000  0.998836    0.994212   0.977905  \n1  0.918452  0.995778  0.999566    0.993444   0.995796  \n2  0.825189  0.993264  0.995975    0.997220   1.000000  \n3  0.712137  0.992582  0.993332    1.000000   0.992028  \n4  0.579317  0.989973  1.000000    0.992988   0.988442  \n\n[5 rows x 42 columns]",
      "text/html": "<div>\n<style scoped>\n    .dataframe tbody tr th:only-of-type {\n        vertical-align: middle;\n    }\n\n    .dataframe tbody tr th {\n        vertical-align: top;\n    }\n\n    .dataframe thead th {\n        text-align: right;\n    }\n</style>\n<table border=\"1\" class=\"dataframe\">\n  <thead>\n    <tr style=\"text-align: right;\">\n      <th></th>\n      <th>opp_switch</th>\n      <th>opp_damage_dealt</th>\n      <th>opp_effectiveness</th>\n      <th>opp_damage_taken</th>\n      <th>opp_heal</th>\n      <th>opp_faint</th>\n      <th>opp_boost_off</th>\n      <th>opp_boost_def</th>\n      <th>opp_boost_spe</th>\n      <th>opp_unboost_off</th>\n      <th>...</th>\n      <th>priority</th>\n      <th>first</th>\n      <th>turn</th>\n      <th>turn_norm</th>\n      <th>opp_alive</th>\n      <th>alive</th>\n      <th>weight</th>\n      <th>winner</th>\n      <th>opp_winner</th>\n      <th>opp_usage</th>\n    </tr>\n  </thead>\n  <tbody>\n    <tr>\n      <th>0</th>\n      <td>1.000000</td>\n      <td>0.804689</td>\n      <td>0.961185</td>\n      <td>0.800596</td>\n      <td>0.681973</td>\n      <td>0.338653</td>\n      <td>0.924984</td>\n      <td>0.939655</td>\n      <td>0.958984</td>\n      <td>1.000000</td>\n      <td>...</td>\n      <td>0.381885</td>\n      <td>0.982747</td>\n      <td>0.238602</td>\n      <td>0.229463</td>\n      <td>1.000000</td>\n      <td>1.000000</td>\n      <td>1.000000</td>\n      <td>0.998836</td>\n      <td>0.994212</td>\n      <td>0.977905</td>\n    </tr>\n    <tr>\n      <th>1</th>\n      <td>0.803687</td>\n      <td>0.834896</td>\n      <td>0.963490</td>\n      <td>0.826087</td>\n      <td>0.883855</td>\n      <td>0.466985</td>\n      <td>0.974578</td>\n      <td>0.996408</td>\n      <td>1.000000</td>\n      <td>0.946470</td>\n      <td>...</td>\n      <td>0.556119</td>\n      <td>0.981840</td>\n      <td>0.428970</td>\n      <td>0.423205</td>\n      <td>0.915960</td>\n      <td>0.918452</td>\n      <td>0.995778</td>\n      <td>0.999566</td>\n      <td>0.993444</td>\n      <td>0.995796</td>\n    </tr>\n    <tr>\n      <th>2</th>\n      <td>0.760702</td>\n      <td>0.877175</td>\n      <td>0.968138</td>\n      <td>0.857219</td>\n      <td>0.955619</td>\n      <td>0.581844</td>\n      <td>1.000000</td>\n      <td>1.000000</td>\n      <td>0.998828</td>\n      <td>0.941394</td>\n      <td>...</td>\n      <td>0.684029</td>\n      <td>0.984852</td>\n      <td>0.625560</td>\n      <td>0.614263</td>\n      <td>0.819978</td>\n      <td>0.825189</td>\n      <td>0.993264</td>\n      <td>0.995975</td>\n      <td>0.997220</td>\n      <td>1.000000</td>\n    </tr>\n    <tr>\n      <th>3</th>\n      <td>0.733269</td>\n      <td>0.914094</td>\n      <td>0.977106</td>\n      <td>0.904419</td>\n      <td>1.000000</td>\n      <td>0.709126</td>\n      <td>0.951657</td>\n      <td>0.956897</td>\n      <td>0.937500</td>\n      <td>0.930318</td>\n      <td>...</td>\n      <td>0.878774</td>\n      <td>1.000000</td>\n      <td>0.826292</td>\n      <td>0.805933</td>\n      <td>0.708943</td>\n      <td>0.712137</td>\n      <td>0.992582</td>\n      <td>0.993332</td>\n      <td>1.000000</td>\n      <td>0.992028</td>\n    </tr>\n    <tr>\n      <th>4</th>\n      <td>0.689455</td>\n      <td>1.000000</td>\n      <td>1.000000</td>\n      <td>1.000000</td>\n      <td>0.900131</td>\n      <td>1.000000</td>\n      <td>0.853720</td>\n      <td>0.766523</td>\n      <td>0.760156</td>\n      <td>0.910475</td>\n      <td>...</td>\n      <td>1.000000</td>\n      <td>0.967628</td>\n      <td>1.000000</td>\n      <td>1.000000</td>\n      <td>0.578260</td>\n      <td>0.579317</td>\n      <td>0.989973</td>\n      <td>1.000000</td>\n      <td>0.992988</td>\n      <td>0.988442</td>\n    </tr>\n  </tbody>\n</table>\n<p>5 rows × 42 columns</p>\n</div>"
     },
     "metadata": {},
     "output_type": "display_data"
    },
    {
     "data": {
      "text/plain": "<Figure size 640x480 with 1 Axes>",
      "image/png": "[encoded data removed]"
     },
     "metadata": {},
     "output_type": "display_data"
    }
   ],
   "source": [
    "all_images = np.concatenate((train_images, test_images), axis=0)\n",
    "img = np.mean(all_images, axis=0)\n",
    "display(pd.DataFrame(img / img.max(axis=0) , columns=columns))\n",
    "plt.imshow(img / img.max(axis=0), cmap='gray')\n",
    "\n",
    "train_images = [x / img.max(axis=0) for x in train_images]\n",
    "test_images = [x / img.max(axis=0) for x in test_images]\n",
    "train_images, test_images = np.array(train_images), np.array(test_images)\n"
   ]
  },
  {
   "cell_type": "code",
   "execution_count": 9,
   "metadata": {
    "ExecuteTime": {
     "start_time": "2023-04-29T08:28:12.103447Z",
     "end_time": "2023-04-29T08:28:12.223294Z"
    },
    "collapsed": false
   },
   "outputs": [
    {
     "name": "stdout",
     "output_type": "stream",
     "text": [
      "<class 'numpy.ndarray'>\n"
     ]
    }
   ],
   "source": [
    "print(type(train_images))\n",
    "train_images = train_images.reshape(len(train_labels), 5, 42, 1)\n",
    "test_images = test_images.reshape(len(test_labels), 5, 42, 1)"
   ]
  },
  {
   "cell_type": "code",
   "execution_count": 10,
   "metadata": {
    "ExecuteTime": {
     "start_time": "2023-04-29T08:28:13.417034Z",
     "end_time": "2023-04-29T08:28:13.425038Z"
    }
   },
   "outputs": [],
   "source": [
    "rating_map = {'S': 1, 'S-': 0.95, 'A+': 0.85, 'A': 0.75, 'A-': 0.65, 'B+': 0.55, 'B': 0.45, 'B-': 0.35, 'C+': 0.2, 'C': 0.1, 'C-': 0}\n",
    "# rating_map_reverse = {1: 'S', 0.95: 'S-', 0.85: 'A+', 0.75: 'A', 0.65: 'A-', 0.55: 'B+', 0.45: 'B', 0.35: 'B-', 0.2: 'C+', 0.1: 'C', 0: 'C-'}\n",
    "rating_map_reverse = {1: 0, 0.95: 1, 0.85: 2, 0.75: 3, 0.65: 4, 0.55: 5, 0.45: 6, 0.35: 7, 0.2: 8, 0.1: 9, 0: 10}\n",
    "\n",
    "save_train_labels = train_labels\n",
    "save_test_labels = test_labels\n",
    "\n",
    "# change the number to label\n",
    "train_labels = np.array([rating_map_reverse[i] for i in train_labels])\n",
    "test_labels = np.array([rating_map_reverse[i] for i in test_labels])"
   ]
  },
  {
   "cell_type": "code",
   "execution_count": 11,
   "metadata": {
    "ExecuteTime": {
     "start_time": "2023-04-29T08:28:14.486452Z",
     "end_time": "2023-04-29T08:28:14.551209Z"
    }
   },
   "outputs": [
    {
     "name": "stdout",
     "output_type": "stream",
     "text": [
      "[4 3 7 ... 3 1 3]\n"
     ]
    }
   ],
   "source": [
    "print(test_labels)"
   ]
  },
  {
   "cell_type": "code",
   "execution_count": 14,
   "metadata": {
    "ExecuteTime": {
     "start_time": "2023-04-29T08:28:41.004942Z",
     "end_time": "2023-04-29T08:28:59.443324Z"
    },
    "collapsed": false
   },
   "outputs": [
    {
     "name": "stdout",
     "output_type": "stream",
     "text": [
      "Epoch 1/100\n",
      "41/41 [==============================] - 2s 17ms/step - loss: 2.2385 - accuracy: 0.2320 - val_loss: 1.9264 - val_accuracy: 0.3642\n",
      "Epoch 2/100\n",
      "41/41 [==============================] - 0s 11ms/step - loss: 1.9503 - accuracy: 0.3502 - val_loss: 1.7122 - val_accuracy: 0.4666\n",
      "Epoch 3/100\n",
      "41/41 [==============================] - 0s 11ms/step - loss: 1.7940 - accuracy: 0.4225 - val_loss: 1.5940 - val_accuracy: 0.5122\n",
      "Epoch 4/100\n",
      "41/41 [==============================] - 1s 14ms/step - loss: 1.6786 - accuracy: 0.4703 - val_loss: 1.4595 - val_accuracy: 0.5361\n",
      "Epoch 5/100\n",
      "41/41 [==============================] - 0s 11ms/step - loss: 1.5658 - accuracy: 0.5007 - val_loss: 1.3807 - val_accuracy: 0.5727\n",
      "Epoch 6/100\n",
      "41/41 [==============================] - 0s 11ms/step - loss: 1.4879 - accuracy: 0.5258 - val_loss: 1.2979 - val_accuracy: 0.5794\n",
      "Epoch 7/100\n",
      "41/41 [==============================] - 0s 11ms/step - loss: 1.4027 - accuracy: 0.5560 - val_loss: 1.2255 - val_accuracy: 0.6106\n",
      "Epoch 8/100\n",
      "41/41 [==============================] - 0s 11ms/step - loss: 1.3253 - accuracy: 0.5769 - val_loss: 1.1675 - val_accuracy: 0.6291\n",
      "Epoch 9/100\n",
      "41/41 [==============================] - 0s 11ms/step - loss: 1.2555 - accuracy: 0.5988 - val_loss: 1.1310 - val_accuracy: 0.6345\n",
      "Epoch 10/100\n",
      "41/41 [==============================] - 1s 13ms/step - loss: 1.2073 - accuracy: 0.6106 - val_loss: 1.0655 - val_accuracy: 0.6534\n",
      "Epoch 11/100\n",
      "41/41 [==============================] - 0s 11ms/step - loss: 1.1581 - accuracy: 0.6293 - val_loss: 1.0325 - val_accuracy: 0.6688\n",
      "Epoch 12/100\n",
      "41/41 [==============================] - 0s 11ms/step - loss: 1.1109 - accuracy: 0.6419 - val_loss: 0.9994 - val_accuracy: 0.6692\n",
      "Epoch 13/100\n",
      "41/41 [==============================] - 0s 12ms/step - loss: 1.0585 - accuracy: 0.6599 - val_loss: 0.9729 - val_accuracy: 0.6886\n",
      "Epoch 14/100\n",
      "41/41 [==============================] - 0s 10ms/step - loss: 1.0076 - accuracy: 0.6680 - val_loss: 0.9449 - val_accuracy: 0.6810\n",
      "Epoch 15/100\n",
      "41/41 [==============================] - 0s 10ms/step - loss: 0.9705 - accuracy: 0.6852 - val_loss: 0.9198 - val_accuracy: 0.6981\n",
      "Epoch 16/100\n",
      "41/41 [==============================] - 0s 10ms/step - loss: 0.9340 - accuracy: 0.6996 - val_loss: 0.9156 - val_accuracy: 0.7004\n",
      "Epoch 17/100\n",
      "41/41 [==============================] - 0s 11ms/step - loss: 0.9195 - accuracy: 0.7028 - val_loss: 0.9356 - val_accuracy: 0.6922\n",
      "Epoch 18/100\n",
      "41/41 [==============================] - 0s 11ms/step - loss: 0.8685 - accuracy: 0.7152 - val_loss: 0.8879 - val_accuracy: 0.7094\n",
      "Epoch 19/100\n",
      "41/41 [==============================] - 0s 10ms/step - loss: 0.8481 - accuracy: 0.7199 - val_loss: 0.8845 - val_accuracy: 0.7076\n",
      "Epoch 20/100\n",
      "41/41 [==============================] - 0s 11ms/step - loss: 0.8102 - accuracy: 0.7264 - val_loss: 0.8587 - val_accuracy: 0.7184\n",
      "Epoch 21/100\n",
      "41/41 [==============================] - 0s 11ms/step - loss: 0.7812 - accuracy: 0.7441 - val_loss: 0.8478 - val_accuracy: 0.7180\n",
      "Epoch 22/100\n",
      "41/41 [==============================] - 0s 11ms/step - loss: 0.7879 - accuracy: 0.7402 - val_loss: 0.8542 - val_accuracy: 0.7184\n",
      "Epoch 23/100\n",
      "41/41 [==============================] - 0s 11ms/step - loss: 0.7263 - accuracy: 0.7586 - val_loss: 0.8332 - val_accuracy: 0.7374\n",
      "Epoch 24/100\n",
      "41/41 [==============================] - 1s 13ms/step - loss: 0.7012 - accuracy: 0.7677 - val_loss: 0.8153 - val_accuracy: 0.7360\n",
      "Epoch 25/100\n",
      "41/41 [==============================] - 1s 12ms/step - loss: 0.6742 - accuracy: 0.7690 - val_loss: 0.8240 - val_accuracy: 0.7378\n",
      "Epoch 26/100\n",
      "41/41 [==============================] - 0s 12ms/step - loss: 0.6341 - accuracy: 0.7920 - val_loss: 0.8004 - val_accuracy: 0.7437\n",
      "Epoch 27/100\n",
      "41/41 [==============================] - 0s 12ms/step - loss: 0.6359 - accuracy: 0.7858 - val_loss: 0.8059 - val_accuracy: 0.7432\n",
      "Epoch 28/100\n",
      "41/41 [==============================] - 0s 12ms/step - loss: 0.6138 - accuracy: 0.7984 - val_loss: 0.8274 - val_accuracy: 0.7396\n",
      "Epoch 29/100\n",
      "41/41 [==============================] - 0s 11ms/step - loss: 0.5715 - accuracy: 0.8120 - val_loss: 0.8366 - val_accuracy: 0.7410\n",
      "Epoch 30/100\n",
      "41/41 [==============================] - 0s 12ms/step - loss: 0.5595 - accuracy: 0.8075 - val_loss: 0.7998 - val_accuracy: 0.7532\n",
      "Epoch 31/100\n",
      "41/41 [==============================] - 0s 11ms/step - loss: 0.5379 - accuracy: 0.8176 - val_loss: 0.8367 - val_accuracy: 0.7491\n",
      "Epoch 32/100\n",
      "41/41 [==============================] - 0s 11ms/step - loss: 0.5264 - accuracy: 0.8228 - val_loss: 0.8605 - val_accuracy: 0.7464\n",
      "Epoch 33/100\n",
      "41/41 [==============================] - 0s 10ms/step - loss: 0.5345 - accuracy: 0.8205 - val_loss: 0.8459 - val_accuracy: 0.7455\n",
      "Epoch 34/100\n",
      "41/41 [==============================] - 0s 11ms/step - loss: 0.4818 - accuracy: 0.8416 - val_loss: 0.8215 - val_accuracy: 0.7586\n",
      "Epoch 35/100\n",
      "41/41 [==============================] - 0s 11ms/step - loss: 0.4928 - accuracy: 0.8365 - val_loss: 0.8525 - val_accuracy: 0.7644\n",
      "78/78 [==============================] - 0s 2ms/step - loss: 5.5105 - accuracy: 0.1887\n",
      "0.18866397440433502\n",
      "78/78 [==============================] - 0s 2ms/step\n"
     ]
    },
    {
     "data": {
      "text/plain": "<tf.Tensor: shape=(2470,), dtype=int64, numpy=array([4, 0, 0, ..., 4, 4, 4], dtype=int64)>"
     },
     "metadata": {},
     "output_type": "display_data"
    },
    {
     "data": {
      "text/plain": "array([4, 3, 7, ..., 3, 1, 3])"
     },
     "metadata": {},
     "output_type": "display_data"
    },
    {
     "name": "stdout",
     "output_type": "stream",
     "text": [
      "0.18866396761133603\n"
     ]
    }
   ],
   "source": [
    "import keras\n",
    "from sklearn.metrics import r2_score\n",
    "from keras.callbacks import EarlyStopping\n",
    "from keras import Sequential\n",
    "\n",
    "from keras.layers import Conv2D, MaxPooling2D, Flatten, Dense, Dropout\n",
    "\n",
    "from sklearn.metrics import accuracy_score\n",
    "\n",
    "\n",
    "# cnn regression model\n",
    "model = Sequential()\n",
    "model.add(Conv2D(32, (2, 6), activation='relu', input_shape=(5, 42, 1)))\n",
    "model.add(MaxPooling2D((2, 2)))\n",
    "model.add(Conv2D(64, (2, 3), activation='relu'))\n",
    "# model.add(MaxPooling2D((2, 2)))\n",
    "# model.add(Conv2D(64, (3, 3), activation='relu'))\n",
    "\n",
    "model.add(Flatten())\n",
    "model.add(Dense(128, activation='relu'))\n",
    "model.add(Dropout(0.5))\n",
    "model.add(Dense(64, activation='relu'))\n",
    "model.add(Dropout(0.5))\n",
    "model.add(Dense(11, activation='softmax'))\n",
    "\n",
    "model.compile(optimizer='adam', loss='sparse_categorical_crossentropy', metrics=['accuracy'])\n",
    "\n",
    "\n",
    "early_stop = EarlyStopping(monitor='val_loss', patience=5)\n",
    "\n",
    "history = model.fit(train_images, train_labels, epochs=100, batch_size=128, validation_split=0.3, callbacks=[early_stop])\n",
    "\n",
    "test_loss, test_acc = model.evaluate(test_images, test_labels)\n",
    "print(test_acc)\n",
    "\n",
    "# r2 score\n",
    "pred = model.predict(test_images)\n",
    "pred = tf.math.argmax(pred, axis=1)\n",
    "# print(pred.shape)\n",
    "# print(test_labels.shape)\n",
    "\n",
    "display(pred)\n",
    "display(test_labels)\n",
    "\n",
    "print(np.count_nonzero(np.array(test_labels) == pred) / len(test_labels))"
   ]
  },
  {
   "cell_type": "code",
   "execution_count": 93,
   "metadata": {
    "ExecuteTime": {
     "end_time": "2023-04-28T23:35:54.111358Z",
     "start_time": "2023-04-28T23:35:53.755263Z"
    },
    "collapsed": false
   },
   "outputs": [
    {
     "ename": "KeyError",
     "evalue": "'r2_score'",
     "output_type": "error",
     "traceback": [
      "\u001B[1;31m---------------------------------------------------------------------------\u001B[0m",
      "\u001B[1;31mKeyError\u001B[0m                                  Traceback (most recent call last)",
      "Cell \u001B[1;32mIn[93], line 3\u001B[0m\n\u001B[0;32m      1\u001B[0m train_loss \u001B[38;5;241m=\u001B[39m history\u001B[38;5;241m.\u001B[39mhistory[\u001B[38;5;124m'\u001B[39m\u001B[38;5;124mloss\u001B[39m\u001B[38;5;124m'\u001B[39m]\n\u001B[0;32m      2\u001B[0m val_loss \u001B[38;5;241m=\u001B[39m history\u001B[38;5;241m.\u001B[39mhistory[\u001B[38;5;124m'\u001B[39m\u001B[38;5;124mval_loss\u001B[39m\u001B[38;5;124m'\u001B[39m]\n\u001B[1;32m----> 3\u001B[0m train_acc \u001B[38;5;241m=\u001B[39m \u001B[43mhistory\u001B[49m\u001B[38;5;241;43m.\u001B[39;49m\u001B[43mhistory\u001B[49m\u001B[43m[\u001B[49m\u001B[38;5;124;43m'\u001B[39;49m\u001B[38;5;124;43mr2_score\u001B[39;49m\u001B[38;5;124;43m'\u001B[39;49m\u001B[43m]\u001B[49m\n\u001B[0;32m      4\u001B[0m val_acc \u001B[38;5;241m=\u001B[39m history\u001B[38;5;241m.\u001B[39mhistory[\u001B[38;5;124m'\u001B[39m\u001B[38;5;124mval_r2_score\u001B[39m\u001B[38;5;124m'\u001B[39m]\n\u001B[0;32m      5\u001B[0m epochs \u001B[38;5;241m=\u001B[39m \u001B[38;5;28mrange\u001B[39m(\u001B[38;5;241m1\u001B[39m, \u001B[38;5;28mlen\u001B[39m(train_loss) \u001B[38;5;241m+\u001B[39m \u001B[38;5;241m1\u001B[39m)\n",
      "\u001B[1;31mKeyError\u001B[0m: 'r2_score'"
     ]
    }
   ],
   "source": [
    "train_loss = history.history['loss']\n",
    "val_loss = history.history['val_loss']\n",
    "train_acc = history.history['r2_score']\n",
    "val_acc = history.history['val_r2_score']\n",
    "epochs = range(1, len(train_loss) + 1)\n",
    "\n",
    "fig, ax = plt.subplots(1, 2, figsize=(15, 8))\n",
    "\n",
    "ax[0].plot(epochs[1:], train_loss[1:], 'bo', label='Training loss')\n",
    "ax[0].plot(epochs[1:], val_loss[1:], 'b', label='Validation loss')\n",
    "ax[0].set_title('Training and validation loss')\n",
    "ax[0].set_xlabel('Epochs')\n",
    "ax[0].set_ylabel('Loss')\n",
    "ax[0].legend()\n",
    "\n",
    "ax[1].plot(epochs[1:], train_acc[1:], 'bo', label='Training R2')\n",
    "ax[1].plot(epochs[1:], val_acc[1:], 'b', label='Validation R2')\n",
    "ax[1].set_title('Training and validation R2')\n",
    "ax[1].set_xlabel('Epochs')\n",
    "ax[1].set_ylabel('R2')\n",
    "ax[1].legend()\n",
    "\n",
    "plt.show()\n"
   ]
  },
  {
   "cell_type": "code",
   "execution_count": 15,
   "metadata": {
    "ExecuteTime": {
     "start_time": "2023-04-29T08:29:08.819968Z",
     "end_time": "2023-04-29T08:29:10.840772Z"
    },
    "collapsed": false
   },
   "outputs": [
    {
     "name": "stdout",
     "output_type": "stream",
     "text": [
      "3/3 [==============================] - 0s 3ms/step\n",
      "1/1 [==============================] - 0s 19ms/step\n",
      "7/7 [==============================] - 0s 2ms/step\n",
      "1/1 [==============================] - 0s 22ms/step\n",
      "5/5 [==============================] - 0s 2ms/step\n",
      "7/7 [==============================] - 0s 2ms/step\n",
      "1/1 [==============================] - 0s 24ms/step\n",
      "1/1 [==============================] - 0s 20ms/step\n",
      "6/6 [==============================] - 0s 2ms/step\n",
      "3/3 [==============================] - 0s 3ms/step\n",
      "1/1 [==============================] - 0s 29ms/step\n",
      "1/1 [==============================] - 0s 21ms/step\n",
      "1/1 [==============================] - 0s 19ms/step\n",
      "10/10 [==============================] - 0s 1ms/step\n",
      "1/1 [==============================] - 0s 16ms/step\n",
      "1/1 [==============================] - 0s 24ms/step\n",
      "8/8 [==============================] - 0s 2ms/step\n",
      "4/4 [==============================] - 0s 2ms/step\n",
      "1/1 [==============================] - 0s 17ms/step\n",
      "1/1 [==============================] - 0s 23ms/step\n",
      "1/1 [==============================] - 0s 20ms/step\n",
      "1/1 [==============================] - 0s 20ms/step\n",
      "2/2 [==============================] - 0s 3ms/step\n",
      "1/1 [==============================] - 0s 19ms/step\n",
      "3/3 [==============================] - 0s 3ms/step\n",
      "2/2 [==============================] - 0s 3ms/step\n",
      "6/6 [==============================] - 0s 2ms/step\n",
      "2/2 [==============================] - 0s 3ms/step\n",
      "2/2 [==============================] - 0s 3ms/step\n",
      "7/7 [==============================] - 0s 2ms/step\n",
      "1/1 [==============================] - 0s 19ms/step\n"
     ]
    }
   ],
   "source": [
    "from itertools import groupby\n",
    "groups = groupby(sorted(zip(test_images, test_labels, test_poke), key=lambda x: x[-1]), key=lambda x: x[-1])\n",
    "\n",
    "pred = []\n",
    "true = []\n",
    "\n",
    "for k, v in groups:\n",
    "\timages = []\n",
    "\tfor data in v:\n",
    "\t\ttrue_ = data[1]\n",
    "\t\timages.append(data[0])\n",
    "\n",
    "\tpred.append(np.mean(tf.math.argmax(model.predict(np.array(images)), axis=1)))\n",
    "\ttrue.append(true_)\n"
   ]
  },
  {
   "cell_type": "code",
   "execution_count": 16,
   "metadata": {
    "ExecuteTime": {
     "start_time": "2023-04-29T08:29:11.783435Z",
     "end_time": "2023-04-29T08:29:11.809642Z"
    },
    "collapsed": false
   },
   "outputs": [
    {
     "data": {
      "text/plain": "[(7, 0.7014925373134329),\n (9, 6.111111111111111),\n (3, 3.0144927536231885),\n (6, 4.928571428571429),\n (3, 4.582191780821918),\n (5, 2.506726457399103),\n (10, 0.0),\n (7, 1.9130434782608696),\n (4, 4.270588235294118),\n (4, 2.734042553191489),\n (8, 4.9411764705882355),\n (7, 3.6153846153846154),\n (8, 5.105263157894737),\n (2, 2.1733333333333333),\n (9, 3.9375),\n (10, 4.642857142857143),\n (4, 4.460251046025105),\n (4, 3.7837837837837838),\n (6, 3.1875),\n (9, 3.7777777777777777),\n (10, 3.9285714285714284),\n (10, 3.466666666666667),\n (5, 1.9836065573770492),\n (9, 2.75),\n (6, 3.5),\n (8, 3.342857142857143),\n (4, 3.9473684210526314),\n (9, 3.4615384615384617),\n (7, 4.0),\n (1, 2.0861244019138754),\n (4, 5.0)]"
     },
     "execution_count": 16,
     "metadata": {},
     "output_type": "execute_result"
    }
   ],
   "source": [
    "list(zip(true, pred))"
   ]
  },
  {
   "cell_type": "code",
   "execution_count": 23,
   "outputs": [],
   "source": [],
   "metadata": {
    "collapsed": false,
    "ExecuteTime": {
     "start_time": "2023-04-29T02:38:51.618272Z",
     "end_time": "2023-04-29T02:38:51.660862Z"
    }
   }
  },
  {
   "cell_type": "code",
   "execution_count": null,
   "outputs": [],
   "source": [],
   "metadata": {
    "collapsed": false
   }
  }
 ],
 "metadata": {
  "kernelspec": {
   "display_name": "Python 3",
   "language": "python",
   "name": "python3"
  },
  "language_info": {
   "codemirror_mode": {
    "name": "ipython",
    "version": 3
   },
   "file_extension": ".py",
   "mimetype": "text/x-python",
   "name": "python",
   "nbconvert_exporter": "python",
   "pygments_lexer": "ipython3",
   "version": "3.9.16"
  }
 },
 "nbformat": 4,
 "nbformat_minor": 0
}
