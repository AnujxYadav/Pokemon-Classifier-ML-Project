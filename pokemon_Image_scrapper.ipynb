{
 "cells": [
  {
   "cell_type": "code",
   "execution_count": 6,
   "metadata": {},
   "outputs": [
    {
     "name": "stdout",
     "output_type": "stream",
     "text": [
      "{'Hattrem': 857, 'Iron Leaves': 1010, 'Gengar': 94, 'Iron Valiant': 1006, 'Volcarona': 637, 'Toxicroak': 454, 'Spiritomb': 442, 'Toedscool': 948, 'Eevee': 133, 'Naclstack': 933, 'Barraskewda': 847, 'Mimikyu': 778, 'Lurantis': 754, 'Gholdengo': 1000, 'Cacturne': 332, 'Raichu': 26, 'Bronzong': 437, 'Chansey': 113, 'Dragonair': 148, 'Dedenne': 702, 'Oricorio': 741, 'Garchomp': 445, 'Pincurchin': 871, 'Scream Tail': 985, 'Haunter': 93, 'Appletun': 842, 'Vivillon': 666, 'Dondozo': 977, 'Toedscruel': 949, 'Ditto': 132, 'Grafaiai': 945, 'Eelektross': 604, 'Lilligant': 549, 'Toxapex': 748, 'Tauros-Paldea-Aqua': 128, 'Bisharp': 625, 'Toxtricity': 849, 'Zangoose': 335, 'Indeedee': 876, 'Lucario': 448, 'Bellibolt': 939, 'Florges': 671, 'Eiscue': 875, 'Flittle': 955, 'Frosmoth': 873, 'Altaria': 334, 'Riolu': 447, 'Leafeon': 470, 'Slowbro': 80, 'Oricorio-Sensu': 741, 'Glimmora': 970, 'Arcanine': 59, 'Oranguru': 765, 'Revavroom': 966, 'Kingambit': 983, 'Basculin': 550, 'Magnezone': 462, 'Staraptor': 398, 'Meowscarada': 908, 'Cloyster': 91, 'Espathra': 956, 'Pachirisu': 417, 'Klefki': 707, 'Ting-Lu': 1003, 'Oinkologne': 916, 'Scovillain': 952, 'Farigiraf': 981, 'Salamence': 373, 'Falinks': 870, 'Wo-Chien': 1001, 'Haxorus': 612, 'Dachsbun': 927, 'Surskit': 283, 'Glaceon': 471, 'Wigglytuff': 40, 'Clodsire': 980, 'Cinderace': 815, 'Luvdisc': 370, 'Scizor': 212, 'Coalossal': 839, 'Noivern': 715, 'Persian': 53, 'Sunflora': 192, 'Hippowdon': 450, 'Skuntank': 435, 'Blissey': 242, 'Mismagius': 429, 'Vespiquen': 416, 'Brambleghast': 947, 'Gothitelle': 576, 'Primeape': 57, 'Greninja': 658, 'Sylveon': 700, 'Klawf': 950, 'Hariyama': 297, 'Iron Jugulis': 993, 'Kilowattrel': 941, 'Amoonguss': 591, 'Jolteon': 135, 'Squawkabilly': 931, 'Armarouge': 936, 'Sawsbuck': 586, 'Flapple': 841, 'Slaking': 289, 'Iron Treads': 990, 'Rotom-Wash': 479, 'Pelipper': 279, 'Avalugg': 713, 'Talonflame': 663, 'Dudunsparce': 982, 'Honchkrow': 430, 'Phanpy': 231, 'Stonjourner': 874, 'Umbreon': 197, 'Zoroark-Hisui': 571, 'Rabsca': 954, 'Dragalge': 691, 'Heracross': 214, 'Walking Wake': 1009, 'Vigoroth': 288, 'Greedent': 820, 'Palossand': 770, 'Iron Thorns': 995, 'Quagsire': 195, 'Voltorb': 100, 'Masquerain': 284, 'Chien-Pao': 1002, 'Camerupt': 323, 'Dragonite': 149, 'Gyarados': 130, 'Rotom-Fan': 479, 'Vaporeon': 134, 'Dunsparce': 206, 'Orthworm': 968, 'Froslass': 478, \"Oricorio-Pa'u\": 741, 'Ursaring': 217, 'Dragapult': 887, 'Gardevoir': 282, 'Banette': 354, 'Lycanroc': 745, 'Whiscash': 340, 'Breloom': 286, 'Slowking': 199, 'Drifblim': 426, 'Alomomola': 594, 'Hypno': 97, 'Wugtrio': 961, 'Flareon': 136, 'Rotom-Mow': 479, 'Hawlucha': 701, 'Seviper': 336, 'Mudsdale': 750, 'Braviary': 628, 'Torkoal': 324, 'Venomoth': 49, 'Jumpluff': 189, 'Polteageist': 855, 'Rotom': 479, 'Grimmsnarl': 861, 'Ampharos': 181, 'Tauros-Paldea-Blaze': 128, 'Komala': 775, 'Golduck': 55, 'Medicham': 308, 'Rotom-Frost': 479, 'Brute Bonnet': 986, 'Arboliva': 930, 'Glalie': 362, 'Corviknight': 823, 'Cetitan': 975, 'Glimmet': 969, 'Sableye': 302, 'Pyroar': 668, 'Dugtrio': 51, 'Veluza': 976, 'Lumineon': 457, 'Iron Hands': 992, 'Goodra': 706, 'Bombirdier': 962, 'Donphan': 232, 'Scyther': 123, 'Floatzel': 419, 'Electrode': 101, 'Swalot': 317, 'Tsareena': 763, 'Gastrodon': 423, 'Grumpig': 326, 'Passimian': 766, 'Weavile': 461, 'Baxcalibur': 998, 'Copperajah': 879, 'Quaquaval': 914, 'Garganacl': 934, 'Hatenna': 856, 'Tyranitar': 248, 'Sandy Shocks': 989, 'Lycanroc-Midnight': 745, 'Bruxish': 779, 'Stantler': 234, 'Magnemite': 81, 'Girafarig': 203, 'Perrserker': 863, 'Delibird': 225, 'Tinkaton': 959, 'Wooper': 194, 'Indeedee-F': 876, 'Charizard': 6, 'Kricketune': 402, 'Skeledirge': 911, 'Pikachu': 25, 'Zoroark': 571, 'Salazzle': 758, 'Tropius': 357, 'Abomasnow': 460, 'Roaring Moon': 1005, 'Muk': 89, 'Luxray': 405, 'Oinkologne-F': 916, 'Tatsugiri': 978, 'Oricorio-Pom-Pom': 741, 'Qwilfish': 211, 'Misdreavus': 200, 'Cryogonal': 615, 'Beartic': 614, 'Crabominable': 740, 'Clawitzer': 693, 'Gogoat': 673, 'Sudowoodo': 185, 'Hatterene': 858, 'Rotom-Heat': 479, 'Tauros-Paldea-Combat': 128, 'Great Tusk': 984, 'Mabosstiff': 943, 'Lycanroc-Dusk': 745, 'Slither Wing': 988, 'Crocalor': 910, 'Sandaconda': 844, 'Magneton': 82, 'Espeon': 196, 'Houndoom': 229, 'Pawmot': 923, 'Lokix': 920, 'Azumarill': 184, 'Murkrow': 198, 'Spidops': 918, 'Maushold': 925, 'Starly': 396, 'Ceruledge': 937, 'Hydreigon': 635, 'Pineco': 204, 'Forretress': 205, 'Gallade': 475, 'Iron Moth': 994, 'Flamigo': 973, 'Gumshoos': 735, 'Drednaw': 834, 'Krookodile': 553}\n"
     ]
    }
   ],
   "source": [
    "# import libraries\n",
    "import requests\n",
    "from bs4 import BeautifulSoup\n",
    "import os\n",
    "import json\n",
    "import pandas as pd\n",
    "\n",
    "url = \"https://assets.pokemon.com/assets/cms2/img/pokedex/full/\"\n",
    "\n",
    "# read the csv file to get the pokemon names\n",
    "df = pd.read_csv(\"./datasets/Generated_pokemon.csv\")\n",
    "pokemon_names = df[\"Pokemon\"].values\n",
    "\n",
    "# opening dex file to get the dex id for each pokemon image\n",
    "with open('./datasets/dex.json') as f:\n",
    "    dex = json.load(f)\n",
    "\n",
    "dex_dic = {}\n",
    "for i in pokemon_names:\n",
    "    name = i.lower()\n",
    "    # if name contain any non alphanumeric character replace it with ''\n",
    "    name = ''.join(e for e in name if e.isalpha())\n",
    "    dex_dic[i] = dex[name]['num']\n",
    "\n",
    "print(dex_dic)\n",
    "\n",
    "# create a folder to store the images if it doesn't exist\n",
    "if not os.path.exists('./datasets/pokemon_images'):\n",
    "    os.makedirs('./datasets/pokemon_images')\n",
    "\n",
    "\n",
    "\n",
    "    \n",
    "\n",
    "# loop through the pokemon names and download the images\n",
    "for name in pokemon_names:\n",
    "    # get the dex id for the pokemon\n",
    "    dex_id = dex_dic[name]\n",
    "    # create the url for the image\n",
    "    image_url = url + str(dex_id).zfill(3) + \".png\"\n",
    "    # get the image from the url\n",
    "    img_data = requests.get(image_url).content\n",
    "    # save the image in the folder\n",
    "    if os.path.exists('./datasets/pokemon_images/' + name + '.png'):\n",
    "        continue\n",
    "    # if 404 error occurs then skip the image\n",
    "    if name == 'Iron Leaves' or name == 'Walking Wake':\n",
    "        continue\n",
    "    with open('./datasets/pokemon_images/' + name + '.png', 'wb') as handler:\n",
    "        handler.write(img_data)\n"
   ]
  },
  {
   "attachments": {},
   "cell_type": "markdown",
   "metadata": {},
   "source": [
    "Handler"
   ]
  },
  {
   "cell_type": "code",
   "execution_count": 13,
   "metadata": {},
   "outputs": [
    {
     "name": "stdout",
     "output_type": "stream",
     "text": [
      "ironleaves\n",
      "walkingwake\n"
     ]
    }
   ],
   "source": [
    "names_not_found = ['Iron Leaves', 'Walking Wake']\n",
    "\n",
    "for name in names_not_found:\n",
    "    save_name = name\n",
    "    name = name.lower()\n",
    "    # remove spaces from the name\n",
    "    name = name.replace(\" \", \"\")\n",
    "    image_url = \"https://play.pokemonshowdown.com/sprites/dex/\" + name + \".png\"\n",
    "    img_data = requests.get(image_url).content\n",
    "    print(name)\n",
    "    with open('./datasets/pokemon_images/' + save_name + '.png', 'wb') as handler:\n",
    "        handler.write(img_data)"
   ]
  }
 ],
 "metadata": {
  "kernelspec": {
   "display_name": "tf",
   "language": "python",
   "name": "python3"
  },
  "language_info": {
   "codemirror_mode": {
    "name": "ipython",
    "version": 3
   },
   "file_extension": ".py",
   "mimetype": "text/x-python",
   "name": "python",
   "nbconvert_exporter": "python",
   "pygments_lexer": "ipython3",
   "version": "3.9.16"
  },
  "orig_nbformat": 4
 },
 "nbformat": 4,
 "nbformat_minor": 2
}
